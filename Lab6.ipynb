{
 "cells": [
  {
   "cell_type": "code",
   "execution_count": 2,
   "metadata": {},
   "outputs": [
    {
     "data": {
      "text/html": [
       "<div>\n",
       "<style scoped>\n",
       "    .dataframe tbody tr th:only-of-type {\n",
       "        vertical-align: middle;\n",
       "    }\n",
       "\n",
       "    .dataframe tbody tr th {\n",
       "        vertical-align: top;\n",
       "    }\n",
       "\n",
       "    .dataframe thead th {\n",
       "        text-align: right;\n",
       "    }\n",
       "</style>\n",
       "<table border=\"1\" class=\"dataframe\">\n",
       "  <thead>\n",
       "    <tr style=\"text-align: right;\">\n",
       "      <th></th>\n",
       "      <th>Id</th>\n",
       "      <th>SepalLengthCm</th>\n",
       "      <th>SepalWidthCm</th>\n",
       "      <th>PetalLengthCm</th>\n",
       "      <th>PetalWidthCm</th>\n",
       "      <th>Species</th>\n",
       "    </tr>\n",
       "  </thead>\n",
       "  <tbody>\n",
       "    <tr>\n",
       "      <th>0</th>\n",
       "      <td>1</td>\n",
       "      <td>5.1</td>\n",
       "      <td>3.5</td>\n",
       "      <td>1.4</td>\n",
       "      <td>0.2</td>\n",
       "      <td>Iris-setosa</td>\n",
       "    </tr>\n",
       "    <tr>\n",
       "      <th>1</th>\n",
       "      <td>2</td>\n",
       "      <td>4.9</td>\n",
       "      <td>3.0</td>\n",
       "      <td>1.4</td>\n",
       "      <td>0.2</td>\n",
       "      <td>Iris-setosa</td>\n",
       "    </tr>\n",
       "    <tr>\n",
       "      <th>2</th>\n",
       "      <td>3</td>\n",
       "      <td>4.7</td>\n",
       "      <td>3.2</td>\n",
       "      <td>1.3</td>\n",
       "      <td>0.2</td>\n",
       "      <td>Iris-setosa</td>\n",
       "    </tr>\n",
       "    <tr>\n",
       "      <th>3</th>\n",
       "      <td>4</td>\n",
       "      <td>4.6</td>\n",
       "      <td>3.1</td>\n",
       "      <td>1.5</td>\n",
       "      <td>0.2</td>\n",
       "      <td>Iris-setosa</td>\n",
       "    </tr>\n",
       "    <tr>\n",
       "      <th>4</th>\n",
       "      <td>5</td>\n",
       "      <td>5.0</td>\n",
       "      <td>3.6</td>\n",
       "      <td>1.4</td>\n",
       "      <td>0.2</td>\n",
       "      <td>Iris-setosa</td>\n",
       "    </tr>\n",
       "  </tbody>\n",
       "</table>\n",
       "</div>"
      ],
      "text/plain": [
       "   Id  SepalLengthCm  SepalWidthCm  PetalLengthCm  PetalWidthCm      Species\n",
       "0   1            5.1           3.5            1.4           0.2  Iris-setosa\n",
       "1   2            4.9           3.0            1.4           0.2  Iris-setosa\n",
       "2   3            4.7           3.2            1.3           0.2  Iris-setosa\n",
       "3   4            4.6           3.1            1.5           0.2  Iris-setosa\n",
       "4   5            5.0           3.6            1.4           0.2  Iris-setosa"
      ]
     },
     "execution_count": 2,
     "metadata": {},
     "output_type": "execute_result"
    }
   ],
   "source": [
    "import torch\n",
    "\n",
    "import numpy as np\n",
    "import pandas as pd\n",
    "import matplotlib.pyplot as plt\n",
    "\n",
    "df = pd.read_csv('Iris.csv')\n",
    "df.head()"
   ]
  },
  {
   "cell_type": "code",
   "execution_count": 2,
   "metadata": {},
   "outputs": [
    {
     "data": {
      "text/plain": [
       "(150, 6)"
      ]
     },
     "execution_count": 2,
     "metadata": {},
     "output_type": "execute_result"
    }
   ],
   "source": [
    "df.shape"
   ]
  },
  {
   "cell_type": "code",
   "execution_count": 4,
   "metadata": {},
   "outputs": [
    {
     "name": "stdout",
     "output_type": "stream",
     "text": [
      "train_size 120\n"
     ]
    }
   ],
   "source": [
    "from sklearn.preprocessing import LabelEncoder\n",
    "from sklearn.model_selection import train_test_split\n",
    "\n",
    "ta = LabelEncoder()\n",
    "X = df.drop([\"Id\",\"Species\"], axis = 1).values\n",
    "y = ta.fit_transform(df[\"Species\"].values)\n",
    "\n",
    "X_train, X_test, y_train, y_test = train_test_split(X, y, train_size = 0.8, random_state=42 )\n",
    "X_train = torch.FloatTensor(X_train)\n",
    "X_test = torch.FloatTensor(X_test)\n",
    "y_test = torch.LongTensor(y_test).reshape(-1,1)\n",
    "y_train = torch.LongTensor(y_train).reshape(-1,1)\n",
    "print(f\"train_size\", (len(y_train)))\n",
    "\n"
   ]
  },
  {
   "cell_type": "code",
   "execution_count": 5,
   "metadata": {},
   "outputs": [
    {
     "name": "stdout",
     "output_type": "stream",
     "text": [
      "[0 1 2] [40 41 39]\n"
     ]
    }
   ],
   "source": [
    "labels, counts = np.unique(y_train, return_counts = True)\n",
    "print(labels, counts)"
   ]
  },
  {
   "cell_type": "code",
   "execution_count": 8,
   "metadata": {},
   "outputs": [
    {
     "name": "stdout",
     "output_type": "stream",
     "text": [
      "tensor(2., requires_grad=True)\n",
      "None\n",
      "tensor(63., grad_fn=<AddBackward0>)\n"
     ]
    },
    {
     "data": {
      "text/plain": [
       "<AddBackward0 at 0x18ac824ea40>"
      ]
     },
     "execution_count": 8,
     "metadata": {},
     "output_type": "execute_result"
    }
   ],
   "source": [
    "#tính đạo hàm bằng pytorch\n",
    "# cho y = 2x^4 + x^3 + 3x^2 + 5x +1\n",
    "import torch\n",
    "from torch import tensor\n",
    "x = torch.tensor(2.0, requires_grad=True)\n",
    "print(x)\n",
    "print(x.grad)\n",
    "tensor(2.0, requires_grad=True)\n",
    "\n",
    "y = 2*x**4 + x**3 + 3*x**2 + 5*x +1\n",
    "print(y)\n",
    "\n",
    "y.grad_fn"
   ]
  },
  {
   "cell_type": "code",
   "execution_count": null,
   "metadata": {},
   "outputs": [],
   "source": [
    "# Thực hiện truyền ngược và tính toán các gradient\n",
    "y.backward()\n"
   ]
  },
  {
   "cell_type": "code",
   "execution_count": 12,
   "metadata": {},
   "outputs": [
    {
     "data": {
      "text/plain": [
       "tensor(93.)"
      ]
     },
     "execution_count": 12,
     "metadata": {},
     "output_type": "execute_result"
    }
   ],
   "source": [
    "x.grad"
   ]
  },
  {
   "cell_type": "code",
   "execution_count": 1,
   "metadata": {},
   "outputs": [
    {
     "name": "stdout",
     "output_type": "stream",
     "text": [
      "Đạo hàm của y tại x = 2.0 là: 1161.0\n"
     ]
    }
   ],
   "source": [
    "import torch\n",
    "\n",
    "x = torch.tensor(2.0, requires_grad=True)\n",
    "\n",
    "# Định nghĩa hàm số y\n",
    "y = 5*x**6+3*x**3+2*x**1+x+2*x+5*x**4+1\n",
    "\n",
    "# Tính đạo hàm\n",
    "y.backward()\n",
    "\n",
    "# Lấy giá trị đạo hàm\n",
    "dy_dx = x.grad\n",
    "\n",
    "print(f\"Đạo hàm của y tại x = {x.item()} là: {dy_dx.item()}\")"
   ]
  },
  {
   "cell_type": "code",
   "execution_count": 3,
   "metadata": {},
   "outputs": [
    {
     "name": "stdout",
     "output_type": "stream",
     "text": [
      "[1 2 3 4 5]\n",
      "int32\n",
      "<class 'numpy.ndarray'>\n",
      "tensor([1, 2, 3, 4, 5], dtype=torch.int32)\n"
     ]
    }
   ],
   "source": [
    "#BTVN\n",
    "#Tạo một tensor có giá trị ban đầu là 2.0\n",
    "# định nghãi hàm số và tính gradient\n",
    "# y = x**3 + 2*x**2 + 5+x + 1\n",
    "# hãy tính dy/dx tại gái trị của x\n",
    "# Dừng phương pháp Gradient Descent với learning rate alpha = 0.1 để cập nhật giá trị x trong 10 vòng\n",
    "# BTVN 2:\n",
    "# Tạo một tập dữ liệu giả lập với x là số giờ học (ngẫu nhiên từ 1 -10) và y là số điểm được tính theo công thức y = 3x + 5 + noise\n",
    "# với noise là một giá trị ngẫu nhiên nhỏ\n",
    "# 1. Khởi tạo tham số w và b ngẫu nhiên với require_radient = True\n",
    "# 2,3.Tính gradient, MSE\n",
    "# 4. Cập nhật tham số w và b bằng gradient Descent với Learning rate alphe = 0.01\n",
    "# 5. Lập lại quá trình trên trong 100 vòng lặp và quan sát sự hội tụ của mô hình\n",
    "\n",
    "\n",
    "# PYTORCH with tensor\n",
    "import torch\n",
    "import numpy as np\n",
    "\n",
    "torch.__version__\n",
    "\n",
    "# Chuyển đổi mảng numpy sang tensor pytorch\n",
    "\n",
    "arr = np.array([1,2,3,4,5])\n",
    "print(arr)\n",
    "print(arr.dtype)\n",
    "print(type(arr))\n",
    "\n",
    "x = torch.from_numpy(arr)\n",
    "print(x)"
   ]
  },
  {
   "cell_type": "code",
   "execution_count": 4,
   "metadata": {},
   "outputs": [
    {
     "name": "stdout",
     "output_type": "stream",
     "text": [
      "torch.int32\n",
      "<built-in method type of Tensor object at 0x00000185A8DE4690>\n",
      "[[ 0  1  2]\n",
      " [ 3  4  5]\n",
      " [ 6  7  8]\n",
      " [ 9 10 11]]\n"
     ]
    }
   ],
   "source": [
    "print (x.dtype)\n",
    "print (x.type)\n",
    "torch.LongTensor\n",
    "\n",
    "arr2 = np.arange(0,12).reshape(4,3)\n",
    "print (arr2)"
   ]
  },
  {
   "cell_type": "code",
   "execution_count": 5,
   "metadata": {},
   "outputs": [
    {
     "name": "stdout",
     "output_type": "stream",
     "text": [
      "tensor([[ 0,  1,  2],\n",
      "        [ 3,  4,  5],\n",
      "        [ 6,  7,  8],\n",
      "        [ 9, 10, 11]], dtype=torch.int32)\n",
      "<built-in method type of Tensor object at 0x00000185FF9281E0>\n"
     ]
    }
   ],
   "source": [
    "x2 = torch.from_numpy(arr2)\n",
    "print(x2)\n",
    "print(x2.type)"
   ]
  },
  {
   "cell_type": "code",
   "execution_count": 6,
   "metadata": {},
   "outputs": [
    {
     "name": "stdout",
     "output_type": "stream",
     "text": [
      "tensor([0, 1, 2, 3, 4], dtype=torch.int32)\n",
      "tensor([99,  1,  2,  3,  4], dtype=torch.int32)\n"
     ]
    }
   ],
   "source": [
    "arr = np.arange(0,5)\n",
    "x = torch.from_numpy(arr)\n",
    "print(x)\n",
    "arr [0] = 99\n",
    "print(x)\n"
   ]
  },
  {
   "cell_type": "code",
   "execution_count": 8,
   "metadata": {},
   "outputs": [
    {
     "name": "stdout",
     "output_type": "stream",
     "text": [
      "Empty tensor:\n",
      " tensor([[0., 0., 0., 0.],\n",
      "        [0., 0., 0., 0.],\n",
      "        [0., 0., 0., 0.]])\n",
      "\n",
      "Zeros tensor:\n",
      " tensor([[0., 0., 0.],\n",
      "        [0., 0., 0.]])\n",
      "\n",
      "Ones tensor:\n",
      " tensor([[1., 1.],\n",
      "        [1., 1.],\n",
      "        [1., 1.],\n",
      "        [1., 1.]])\n",
      "\n",
      "Random tensor:\n",
      " tensor([[0.9593, 0.3677, 0.8926],\n",
      "        [0.4248, 0.2571, 0.3071],\n",
      "        [0.0353, 0.5750, 0.3380]])\n",
      "\n",
      "Original tensor (2x4):\n",
      " tensor([[1, 2, 3, 4],\n",
      "        [5, 6, 7, 8]])\n",
      "\n",
      "Reshaped tensor using view (4x2):\n",
      " tensor([[1, 2],\n",
      "        [3, 4],\n",
      "        [5, 6],\n",
      "        [7, 8]])\n",
      "\n",
      "Reshaped tensor using view (1x8):\n",
      " tensor([[1, 2, 3, 4, 5, 6, 7, 8]])\n",
      "\n",
      "Reshaped tensor using view_as (4x2):\n",
      " tensor([[1, 2],\n",
      "        [3, 4],\n",
      "        [5, 6],\n",
      "        [7, 8]])\n"
     ]
    }
   ],
   "source": [
    "#Giải thích lý do tại sao ? cho 2 trường hợp trên \n",
    "#Khi thay đổi giá trị arr[0] = 99, giá trị trong tensor x cũng thay đổi (x[0] trở thành 99).\n",
    "#Tensor x được tạo bằng torch.from_numpy(arr) chia sẻ bộ nhớ với array arr. Do đó, mọi thay đổi trong arr sẽ ảnh hưởng trực tiếp đến x, và ngược lại.\n",
    "# BTVN 4: Bạn hãy giúp best nasus về nhà tạo tensor với :\n",
    "# Empyty\n",
    "# Zeros\n",
    "# Ones\n",
    "# Random\n",
    "# reahape với view và view as\n",
    "import torch\n",
    "\n",
    "# Tạo tensor Empty (tensor rỗng, giá trị không được khởi tạo)\n",
    "empty_tensor = torch.empty(3, 4)  # Tạo tensor 3x4, giá trị ngẫu nhiên (không khởi tạo)\n",
    "print(\"Empty tensor:\\n\", empty_tensor)\n",
    "\n",
    "# Tạo tensor Zeros (tất cả giá trị là 0)\n",
    "zeros_tensor = torch.zeros(2, 3)  # Tạo tensor 2x3, tất cả giá trị là 0\n",
    "print(\"\\nZeros tensor:\\n\", zeros_tensor)\n",
    "\n",
    "# Tạo tensor Ones (tất cả giá trị là 1)\n",
    "ones_tensor = torch.ones(4, 2)  # Tạo tensor 4x2, tất cả giá trị là 1\n",
    "print(\"\\nOnes tensor:\\n\", ones_tensor)\n",
    "\n",
    "# Tạo tensor Random (giá trị ngẫu nhiên từ phân phối đều [0, 1))\n",
    "random_tensor = torch.rand(3, 3)  # Tạo tensor 3x3, giá trị ngẫu nhiên từ 0 đến 1\n",
    "print(\"\\nRandom tensor:\\n\", random_tensor)\n",
    "\n",
    "# Reshape tensor bằng view\n",
    "# Tạo tensor ban đầu kích thước 2x4\n",
    "original_tensor = torch.tensor([[1, 2, 3, 4],\n",
    "                               [5, 6, 7, 8]])\n",
    "print(\"\\nOriginal tensor (2x4):\\n\", original_tensor)\n",
    "\n",
    "# Sử dụng view để reshape thành 4x2\n",
    "reshaped_view = original_tensor.view(4, 2)\n",
    "print(\"\\nReshaped tensor using view (4x2):\\n\", reshaped_view)\n",
    "\n",
    "# Sử dụng view để reshape thành 1x8\n",
    "reshaped_view_flat = original_tensor.view(1, 8)\n",
    "print(\"\\nReshaped tensor using view (1x8):\\n\", reshaped_view_flat)\n",
    "\n",
    "# Sử dụng view_as để reshape (tương tự view, nhưng dựa trên tensor khác)\n",
    "target_shape = torch.tensor([[0, 0], [0, 0], [0, 0], [0, 0]])  # Tensor 4x2\n",
    "reshaped_view_as = original_tensor.view_as(target_shape)\n",
    "print(\"\\nReshaped tensor using view_as (4x2):\\n\", reshaped_view_as)"
   ]
  }
 ],
 "metadata": {
  "kernelspec": {
   "display_name": "Python 3",
   "language": "python",
   "name": "python3"
  },
  "language_info": {
   "codemirror_mode": {
    "name": "ipython",
    "version": 3
   },
   "file_extension": ".py",
   "mimetype": "text/x-python",
   "name": "python",
   "nbconvert_exporter": "python",
   "pygments_lexer": "ipython3",
   "version": "3.12.3"
  }
 },
 "nbformat": 4,
 "nbformat_minor": 2
}
